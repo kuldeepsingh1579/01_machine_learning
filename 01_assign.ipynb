{
 "cells": [
  {
   "cell_type": "raw",
   "id": "9ed43481-ee3d-4b5c-9525-964f182fa91d",
   "metadata": {},
   "source": [
    "Question-No.1"
   ]
  },
  {
   "cell_type": "raw",
   "id": "2ef7dd61-69dc-4946-93da-1cdc5ddd153a",
   "metadata": {},
   "source": [
    "1- Artificial Intelligence (AI): Artificial intelligence is the science of making machines that can think like humans.    OR\n",
    "Artificial Intelligence refers to the simulation of human intelligence in machines to perform tasks that typically require human intelligence, such as problem-solving, understanding natural language, recognizing patterns, and making decisions.\n",
    "Examples- Apple's Siri , Alexa, Google Assistence\n",
    "\n",
    "2- Machine Learning:\n",
    "Machine Learning is a subset of artificial intelligence that focuses on the development of algorithms that can learn from data and make predictions or decisions without being explicitly programmed. \n",
    "In other words, it's about teaching machines to improve their performance on a task through experience.\n",
    "Examples-Spam email detection, Facial Recognition, Froud Detection\n",
    "\n",
    "3- Deep Learning:\n",
    "Deep Learning is a specialized subset of machine learning that involves neural networks with multiple layers (deep neural networks). These deep networks are capable of automatically learning hierarchical representations of data, which makes them well-suited for complex tasks like image and speech recognition.\n",
    "Examples- Chatbots, Vartual Assistence, Autonomous Vehicles, Translation"
   ]
  },
  {
   "cell_type": "raw",
   "id": "cb5dcb4f-84fe-4f36-848a-0e8d777acc30",
   "metadata": {},
   "source": [
    "Question-No.2"
   ]
  },
  {
   "cell_type": "raw",
   "id": "4e2d519a-b70e-47bc-aa52-d7a8a3091a53",
   "metadata": {},
   "source": [
    "Supervised Machine Learning-\n",
    "Supervised learning is the types of machine learning in which machines are trained using well \"labelled\" training data, and on basis of that data, machines predict the output. The labelled data means some input data is already tagged with the correct output.\n",
    "Here Some Examples of supervised learning-\n",
    "1- Handwriting Recognition\n",
    "2- Speech Recognition\n",
    "3- Object Detection\n",
    "4- Medical Diagnosis\n",
    "5- Froud Detection"
   ]
  },
  {
   "cell_type": "raw",
   "id": "d26d3912-3288-4a46-8be0-1d21ab3e9982",
   "metadata": {},
   "source": [
    "Question-No.3"
   ]
  },
  {
   "cell_type": "raw",
   "id": "9e1fa63d-b5f7-48e6-94bd-a5168d6d819a",
   "metadata": {},
   "source": [
    "Unsupervised Learing- Unsupervised learning is a type of machine learning in which models are trained using unlabeled dataset and are allowed to act on that data without any supervision. \n",
    "In unsupervised learning, the algorithm explores the data to find hidden structures or groupings without being provided with specific instructions on what to look for. The main goal of unsupervised learning is often to discover insights or patterns within the data.\n",
    "Examples- Customer Segmatation"
   ]
  },
  {
   "cell_type": "raw",
   "id": "2acbd8c7-2d08-41f4-a08c-18e37f3b8e7d",
   "metadata": {},
   "source": [
    "Question-No.4"
   ]
  },
  {
   "cell_type": "raw",
   "id": "c7af6640-347d-4007-9102-beee9c43f05e",
   "metadata": {},
   "source": [
    "This is the difference between AI, ML, DL, DS --\n",
    "AI is the overarching field that aims to create intelligent systems.\n",
    "Machine learning is a subset of AI focused on learning from data. \n",
    "Deep learning is a subset of machine learning that uses deep neural networks for complex tasks. \n",
    "Data science is a multidisciplinary field that encompasses skills and techniques for working with data to gain insights and solve problems"
   ]
  },
  {
   "cell_type": "raw",
   "id": "24dc17a0-260a-4578-bfeb-5f1e3c6c3dd2",
   "metadata": {},
   "source": [
    "Questio-No.5"
   ]
  },
  {
   "cell_type": "raw",
   "id": "e5ab87f1-dc55-44b2-b003-31fc95e0e361",
   "metadata": {},
   "source": [
    "This is the main difference between Supervised , Unsupervised, and Semi-Supervised learning--\n",
    "Supervised Learning:\n",
    "Labeled Data: Supervised learning algorithms require a labeled dataset, where each data point has a corresponding output or target value.\n",
    "\n",
    "Unsupervised Learning:\n",
    "Unlabeled Data: Unsupervised learning algorithms work with unlabeled data. They aim to find hidden patterns, structures, or relationships within the data.\n",
    "\n",
    "Semi-Supervised Learning:\n",
    "Combination of Labeled and Unlabeled Data: Semi-supervised learning combines both labeled and unlabeled data in the training process.\n",
    "\n",
    "Key differences:\n",
    "\n",
    "Data: In supervised learning, you have a fully labeled dataset, while unsupervised learning deals with unlabeled data. Semi-supervised learning uses both types of data.\n",
    "\n",
    "Objective: Supervised learning aims to map inputs to predefined outputs. Unsupervised learning seeks to discover hidden patterns. Semi-supervised learning tries to use labeled data to improve unsupervised learning or make predictions with limited labeled data.\n",
    "\n",
    "Use Cases: Supervised learning is common for tasks with clear labels, while unsupervised learning is used for exploration and data-driven insights. Semi-supervised learning is useful when labeled data is scarce or expensive."
   ]
  },
  {
   "cell_type": "raw",
   "id": "b49dceb5-2bff-478b-bf60-ea23f893f977",
   "metadata": {},
   "source": [
    "Question-No.6"
   ]
  },
  {
   "cell_type": "raw",
   "id": "53f6f1c3-4559-40ce-9192-2633fef31fe2",
   "metadata": {},
   "source": [
    "Training Set:\n",
    "Purpose: The training set is used to train the machine learning model. It contains a large portion of the available data and is used to teach the model to make predictions or learn patterns from the data.\n",
    "Importance: The training set is the foundation of the model. It allows the model to learn the underlying patterns and relationships in the data. The better the model learns from the training data, the better it will perform when making predictions on new, unseen data.\n",
    "\n",
    "Validation Set:\n",
    "Purpose: The validation set is used to fine-tune the model during training. It is a separate subset of data that the model does not see during training but is used to assess the model's performance and make adjustments (e.g., hyperparameter tuning).\n",
    "Importance: The validation set helps to monitor the model's performance and generalization. By evaluating the model on the validation set, you can detect issues like overfitting (when the model performs well on the training data but poorly on new data) and make necessary adjustments to improve its generalization to unseen data.\n",
    "\n",
    "Testing Set:\n",
    "Purpose: The testing set is used to assess the final performance and generalization of the model. It should be entirely independent of the data used for training and validation.\n",
    "Importance: The testing set serves as a benchmark for the model's overall performance. It gives you a realistic estimate of how well the model will perform in real-world scenarios. It helps ensure that the model's performance is not over-optimistic due to overfitting to the validation set."
   ]
  },
  {
   "cell_type": "raw",
   "id": "752e31e3-28ae-411e-92bd-27ae3abc8b99",
   "metadata": {},
   "source": [
    "Question-No.8"
   ]
  },
  {
   "cell_type": "raw",
   "id": "50b3d8ce-2f5f-406c-a34c-de8622ed54ab",
   "metadata": {},
   "source": [
    "Supervised Learning Algorithms:\n",
    "1- Linear Regression\n",
    "2- Logistic Regression\n",
    "3- Decision Trees\n",
    "4- Random Forest\n",
    "5- Support Vector Machines (SVM)\n",
    "6- K-Nearest Neighbors (KNN)\n",
    "7- Naive Bayes\n",
    "\n",
    "Unsupervised Learning Algorithms:\n",
    "\n",
    "1- K-Means Clustering: Used for clustering data into groups or clusters based on similarity.\n",
    "2- Hierarchical Clustering: Clustering method that creates a hierarchy of clusters, often represented as a dendrogram.\n",
    "3- Principal Component Analysis (PCA): A dimensionality reduction technique that identifies the most important features in the data.\n",
    "\n",
    "4- Independent Component Analysis (ICA): A technique for separating a multivariate signal into additive, independent components.\n",
    "\n",
    "5- DBSCAN (Density-Based Spatial Clustering of Applications with Noise): A clustering algorithm that can find clusters of varying shapes and sizes and identify outliers.\n",
    "\n",
    "6- Autoencoders: A type of neural network used for dimensionality reduction, feature learning, and data denoising.\n",
    "\n",
    "Gaussian Mixture Model (GMM): "
   ]
  }
 ],
 "metadata": {
  "kernelspec": {
   "display_name": "Python 3 (ipykernel)",
   "language": "python",
   "name": "python3"
  },
  "language_info": {
   "codemirror_mode": {
    "name": "ipython",
    "version": 3
   },
   "file_extension": ".py",
   "mimetype": "text/x-python",
   "name": "python",
   "nbconvert_exporter": "python",
   "pygments_lexer": "ipython3",
   "version": "3.10.8"
  }
 },
 "nbformat": 4,
 "nbformat_minor": 5
}
